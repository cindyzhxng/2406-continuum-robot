{
  "nbformat": 4,
  "nbformat_minor": 0,
  "metadata": {
    "colab": {
      "provenance": [],
      "authorship_tag": "ABX9TyOUxQNBPwo2+OesJCP4P1sb",
      "include_colab_link": true
    },
    "kernelspec": {
      "name": "python3",
      "display_name": "Python 3"
    },
    "language_info": {
      "name": "python"
    }
  },
  "cells": [
    {
      "cell_type": "markdown",
      "metadata": {
        "id": "view-in-github",
        "colab_type": "text"
      },
      "source": [
        "<a href=\"https://colab.research.google.com/github/cindyzhxng/2406-continuum-robot/blob/main/Motor%20Resolution%20and%20Torque%20Speccing.ipynb\" target=\"_parent\"><img src=\"https://colab.research.google.com/assets/colab-badge.svg\" alt=\"Open In Colab\"/></a>"
      ]
    },
    {
      "cell_type": "code",
      "source": [
        "import numpy as np"
      ],
      "metadata": {
        "id": "ECTGqUJsdifc"
      },
      "execution_count": null,
      "outputs": []
    },
    {
      "cell_type": "markdown",
      "source": [
        "NOTE: All units are metric."
      ],
      "metadata": {
        "id": "HLzbs42JvDX_"
      }
    },
    {
      "cell_type": "markdown",
      "source": [
        "# Motor Resolution"
      ],
      "metadata": {
        "id": "o1ouAlUGBIJs"
      }
    },
    {
      "cell_type": "markdown",
      "source": [
        "Standard stepper motors can increment the angle at [0.9 or 1.8 degrees](https://dovermotion.com/resources/motion-control-handbook/resolution/). The steppers from [our supplier of interest](https://www.omc-stepperonline.com/closed-loop-stepper-motor) increment at 1.8 degrees. This means a resolution of 360degrees/1.8degrees steps/revolution = **200 steps per revolution** Considering that our rotational maximum radius (i.e. robot length, 20cm) will be much larger than our pinion radius (45/2 cm), and assuming we use the same gear ratio like U of T for both our rotational and translational stages (before pinion), we can conclude that if rotation resolution is sufficient, translational resolution must be too.\n",
        "\n",
        "Given that in the literature, the robot tip can travel with [accuracy of 1.5-3% of robot length](https://ieeexplore.ieee.org/document/9981719/references#references), we want to design the motors such that if the tubes were rigid, the smallest possible change in tangential distance travelled by the tip would ideally be at least ~0.2% of robot length, (2E-3)xL. Tangential resolution of the tip is (minimum achievable angular increment) x L. Thus, we want (minimum achievable angular increment)xL < 1E-3xL or simplified, minimum achievable angular increment < 2E-3 radians.\n"
      ],
      "metadata": {
        "id": "yeZmEvOhBMcf"
      }
    },
    {
      "cell_type": "code",
      "source": [
        "required_resolution = 2*np.pi/2E-3\n",
        "print(\"Achieving a resolution <.2% is equivalent to a resolution of\", required_resolution, \"steps per revolution.\")\n",
        "stepper_resolution = 360/1.8\n",
        "print(\"Stepper motors that 1.8 degrees per full step have a resolution of\", stepper_resolution, \"steps per revolution.\")\n",
        "required_resolution_gear_factor = required_resolution/stepper_resolution\n",
        "microsteps_per_step = 8\n",
        "print(\"Assuming the stepper runs 8 microsteps per full step, achieving\",\n",
        "      required_resolution, \"steps per revolution requires gear ratio of\",\n",
        "      required_resolution/(stepper_resolution*microsteps_per_step))"
      ],
      "metadata": {
        "colab": {
          "base_uri": "https://localhost:8080/"
        },
        "id": "lUF5RylxIva1",
        "outputId": "4688d9de-f2ce-4aae-c409-50edf7c7b9c7"
      },
      "execution_count": null,
      "outputs": [
        {
          "output_type": "stream",
          "name": "stdout",
          "text": [
            "Achieving a resolution <.2% is equivalent to a resolution of 3141.592653589793 steps per revolution.\n",
            "Stepper motors that 1.8 degrees per full step have a resolution of 200.0 steps per revolution.\n",
            "Assuming the stepper runs 8 microsteps per full step, achieving 3141.592653589793 steps per revolution requires gear ratio of 1.9634954084936205\n"
          ]
        }
      ]
    },
    {
      "cell_type": "markdown",
      "source": [
        "The microstepping by a factor of 8 was chosen taking into account resolution, torque, and accuracy needs."
      ],
      "metadata": {
        "id": "c16KebxsKhuE"
      }
    },
    {
      "cell_type": "markdown",
      "source": [
        "Here we define a function that takes in gear ratio, and outputs the resolution (in percentage of minimum tip deviation compared to robot length - e.g. required is <.2%), assuming microstep of eight."
      ],
      "metadata": {
        "id": "XYxlNziVX-sS"
      }
    },
    {
      "cell_type": "code",
      "source": [
        "def resolution_percent(gear_ratio):\n",
        "  steps_per_revolution = stepper_resolution*microsteps_per_step*gear_ratio\n",
        "  percent = 2*np.pi/steps_per_revolution * 100\n",
        "  return percent"
      ],
      "metadata": {
        "id": "GZATvER7X45C"
      },
      "execution_count": null,
      "outputs": []
    },
    {
      "cell_type": "markdown",
      "source": [
        "# Total Torque Equation:\n",
        "\n",
        "TP = (TL+ TJ + TF) * 1.2\n",
        "\n",
        "The torque due to inertia (TJ) is the torque required to accelerate the load from standstill or from a lower speed to a higher speed. This can be calculated by tak- ing the product of load inertia, including the rotor inertia and load acceleration.\n",
        "\n",
        "Torque due to Inertia Equation:\n",
        "TJ = (JL + M) * α\n",
        "\n",
        "where:\n",
        "\n",
        "JL+M is the sum of the load and rotor inertia and a is the required acceleration\n",
        "The mechanical system coupled to the motor shaft determines the load torque and the frictional torque.\n",
        "\n",
        "Total torque required include:\n",
        "\n",
        "\n",
        "*   Load torque TL: the resistive torque presented by the external load itself, excluding inertia and friction. This torque arises from the mechanical resistance or requirements of the specific application.\n",
        "\n",
        "\n",
        ">    For our case, the load torque is the torque required to push upon the ground and move the robot. Recall that the robot moves due to the reaction force from friction (e.g., the wheel pushes on the ground, and the friction force on the ground pushes the robot). This force is always present, in practice, to keep the robot moving at a constant speed since air friction and other dissipative forces will slow down the robot eventually.\n",
        "\n",
        "*   Torque due to inertia TJ: torque required to accelerate the load from a lower speed to a higher speed. This depends on the inertia of the rotor and the wheel.\n",
        "*   Torque to overcome friction TF: torque required to overcome dissipative forces at the motor-wheel system such as: air resistance, bearing friction, etc."
      ],
      "metadata": {
        "id": "lBnt8-1b5GeV"
      }
    },
    {
      "cell_type": "markdown",
      "source": [
        "#Tube Rotation Motor - Required Torque\n",
        "\n",
        "How much torque does our motor for rotating the tubes have to handle?\n",
        "\n",
        "Considering turning up tube fully extended, turned 90 degrees from axis, in horizontal plane (maximal torque situation). Instead of finding the mass of three separate hollow tubes, we consider the outermost tube filled in with nitinol for a simplified overestimation of tube mass:"
      ],
      "metadata": {
        "id": "ZXAHtBED7jS2"
      }
    },
    {
      "cell_type": "markdown",
      "source": [
        "**Maximum Load Torque due to weight of tubes and camera:**"
      ],
      "metadata": {
        "id": "Mc-7yBtFctnJ"
      }
    },
    {
      "cell_type": "code",
      "source": [
        "outer_tube_diameter = 4.627E-3\n",
        "tube_length = 20E-2\n",
        "outer_tube_volume = np.pi*(outer_tube_diameter/2)**2 * tube_length\n",
        "nitinol_density = 6450\n",
        "filled_tube_mass = outer_tube_volume*nitinol_density\n",
        "camera_mass = 10.2E-3\n",
        "gravity = 9.81\n",
        "load_torque = filled_tube_mass * gravity * tube_length/2 + camera_mass * gravity * tube_length\n",
        "print(\"The maximum load torque due to camera and tube weight for tube rotation is\", load_torque, \"Nm\")"
      ],
      "metadata": {
        "colab": {
          "base_uri": "https://localhost:8080/"
        },
        "id": "s3UfJ7nyc5h5",
        "outputId": "a35c14a7-9d3f-4738-8e17-45cfabfe9842"
      },
      "execution_count": null,
      "outputs": [
        {
          "output_type": "stream",
          "name": "stdout",
          "text": [
            "The maximum load torque due to camera and tube weight for tube rotation is 0.041291222803014206 Nm\n"
          ]
        }
      ]
    },
    {
      "cell_type": "markdown",
      "source": [
        "**Maximum Acceleration Torque**"
      ],
      "metadata": {
        "id": "PvZ4RMw4gQ2h"
      }
    },
    {
      "cell_type": "code",
      "source": [
        "angular_rotation_speed = 2*np.pi\n",
        "acceleration_time = 1.0/3\n",
        "angular_acceleration = angular_rotation_speed/acceleration_time\n",
        "tubes_moment_of_inertia = 1.0/3 * filled_tube_mass * tube_length**2\n",
        "camera_moment_of_inertia = camera_mass*tube_length**2\n",
        "acceleration_torque = (tubes_moment_of_inertia + camera_moment_of_inertia)*angular_acceleration\n",
        "print(\"The acceleration torque is\", acceleration_torque, \"Nm\")"
      ],
      "metadata": {
        "colab": {
          "base_uri": "https://localhost:8080/"
        },
        "id": "DgiqYOtUhL6X",
        "outputId": "8c677cac-09a2-43a0-ba5c-373059281e9a"
      },
      "execution_count": null,
      "outputs": [
        {
          "output_type": "stream",
          "name": "stdout",
          "text": [
            "The acceleration torque is 0.013142149368076575 Nm\n"
          ]
        }
      ]
    },
    {
      "cell_type": "markdown",
      "source": [
        "Instead of calculating the frictional torque (between tubes) and the load torque due to inner tube torsion, we simplify our calculations using a high factor of safety on the load torque due to weight and acceleration torque:"
      ],
      "metadata": {
        "id": "Zbwb67wrjMA5"
      }
    },
    {
      "cell_type": "code",
      "source": [
        "safety_factor = 5\n",
        "tube_rotation_torque = 5 * (load_torque+acceleration_torque)\n",
        "print(\"Therefore, we approximate that the torque our motors for rotating the tubes should be able to deliver after gear ratio is\", tube_rotation_torque, \"Nm\")"
      ],
      "metadata": {
        "colab": {
          "base_uri": "https://localhost:8080/"
        },
        "id": "kbS1DCrNkJuQ",
        "outputId": "45e1af61-f36c-4dc0-f626-c22a4ef2adbb"
      },
      "execution_count": null,
      "outputs": [
        {
          "output_type": "stream",
          "name": "stdout",
          "text": [
            "Therefore, we approximate that the torque our motors for rotating the tubes should be able to deliver after gear ratio is 0.2721668608554539 Nm\n"
          ]
        }
      ]
    },
    {
      "cell_type": "markdown",
      "source": [
        "## Tube Translation Motor - Required v.s. Delivered Force at Rack and Pinion Interface\n"
      ],
      "metadata": {
        "id": "rbZkYtOYl0zW"
      }
    },
    {
      "cell_type": "markdown",
      "source": [
        "This one is a bit more complicated than tube rotation, because force required varies depending on the weight of the motors."
      ],
      "metadata": {
        "id": "p-4VEVm8oYXG"
      }
    },
    {
      "cell_type": "markdown",
      "source": [
        "First, we make a function for required force that takes as parameter the motor mass:"
      ],
      "metadata": {
        "id": "0kvQSxS_qZ0V"
      }
    },
    {
      "cell_type": "code",
      "source": [
        "def required_force_at_rack_pinion(actuation_unit_mass):\n",
        "    weight = actuation_unit_mass * gravity\n",
        "\n",
        "    # Interface is pillow blocks and rails. pillow blocks surface made of iglide® J200\n",
        "    # which has a friction coefficient <0.2 with Hard adonized aluminum (? \"best\" partner material according to same site, below...)\n",
        "    # https://www.igus.eu/info/plain-bearings-j200-material-data#:~:text=Among%20all%20the%20iglidur%C2%AE,anodised%20aluminium%20assumes%20special%20importance.\n",
        "    coefficient_of_friction = .2\n",
        "\n",
        "    friction_force = coefficient_of_friction * weight\n",
        "    return friction_force\n",
        "\n",
        "def actuation_unit_mass(motor_mass):\n",
        "    actuation_frame_volume = 0.00014\n",
        "    plastic_parts_total_volume = actuation_frame_volume * 2 #an approximation\n",
        "    resin_density = 1110\n",
        "    plastic_parts_mass = plastic_parts_total_volume * resin_density\n",
        "    pillow_block_mass = .02 # https://www.igus.ca/ContentData/Products/Downloads/drylin-w-pillow-block-wj200um-01-al.pdf\n",
        "    total_mass = 2 * motor_mass + plastic_parts_mass + filled_tube_mass + 4*pillow_block_mass\n",
        "    return total_mass"
      ],
      "metadata": {
        "id": "f_aUEiLwrbIt"
      },
      "execution_count": null,
      "outputs": []
    },
    {
      "cell_type": "markdown",
      "source": [
        "Because we are microstepping the motors, our holding torque is reduced using the formula, *incremental holding torque = (full stepping torque) x sin (90 degrees/ number of microsteps) *"
      ],
      "metadata": {
        "id": "KCFqwj_jAWbm"
      }
    },
    {
      "cell_type": "code",
      "source": [
        "def incremental_holding_torque(full_stepping_torque,microsteps_per_step):\n",
        "  return full_stepping_torque*np.sin((np.pi/2)/microsteps_per_step)"
      ],
      "metadata": {
        "id": "aPrmRA0tMyfF"
      },
      "execution_count": null,
      "outputs": []
    },
    {
      "cell_type": "markdown",
      "source": [
        "Here is a function that converts the motor torque to force at the pinion-gear interface:"
      ],
      "metadata": {
        "id": "KdJt_LD75zbn"
      }
    },
    {
      "cell_type": "code",
      "source": [
        "def force_after_gear_ratio(motor_torque, input_gear_diameter, output_gear_diameter, pinion_gear_diameter):\n",
        "  output_torque = torque_after_gear_ratio(motor_torque, input_gear_diameter, output_gear_diameter)\n",
        "  if pinion_gear_diameter == None:\n",
        "    pinion_gear_diameter = output_gear_diameter\n",
        "  return output_torque/(pinion_gear_diameter/2) # = (motor_torque*gear_ratio)/pinion_gear_radius\n",
        "\n",
        "def torque_after_gear_ratio(motor_torque, input_gear_diameter, output_gear_diameter):\n",
        "  return motor_torque*output_gear_diameter/input_gear_diameter # = motor_torque*gear_ratio"
      ],
      "metadata": {
        "id": "gP0U0xLl7L3D"
      },
      "execution_count": null,
      "outputs": []
    },
    {
      "cell_type": "markdown",
      "source": [
        "We now list the translational forces required and the forces provided for each motor of interest."
      ],
      "metadata": {
        "id": "cymyg21D7x4B"
      }
    },
    {
      "cell_type": "code",
      "source": [
        "def motor_speccing(motor_mass, motor_torque, input_gear_diameter, output_gear_diameter, motor_link, pinion_gear_diameter=None):\n",
        "  print (motor_link)\n",
        "  print(\"required resolution (minimum tip deviation to robot length): .2%\")\n",
        "  print(\"resolution after 8x microstep, gear ratio (minimum tip deviation to robot length):\", resolution_percent(output_gear_diameter/input_gear_diameter),\"%\")\n",
        "  one_axis_unit_mass = actuation_unit_mass(motor_mass)\n",
        "  print (\"required force at rack and pinion:\", required_force_at_rack_pinion(one_axis_unit_mass))\n",
        "  max_applicable_force = force_after_gear_ratio(motor_torque, input_gear_diameter, output_gear_diameter, pinion_gear_diameter)\n",
        "  print (\"maximum force applicable at rack and pinion:\", max_applicable_force)\n",
        "  print (\"actual max acceleration:\", max_applicable_force/one_axis_unit_mass, \"m/s^2\")\n",
        "  print(\"max output torque:\", torque_after_gear_ratio(motor_torque, input_gear_diameter, output_gear_diameter))\n",
        "  print(\"required output torque for tube rotation (after SF=5):\", tube_rotation_torque)"
      ],
      "metadata": {
        "id": "jrmHGfLN8WJR"
      },
      "execution_count": null,
      "outputs": []
    },
    {
      "cell_type": "code",
      "source": [
        "motor_speccing(.123, incremental_holding_torque(0.054, microsteps_per_step), .01, .04, \"https://www.omc-stepperonline.com/nema-8-closed-loop-stepper-motor-0-054-nm-7-65oz-in-encoder-1000ppr-4000cpr-8hs22-0804d-e1000\")"
      ],
      "metadata": {
        "colab": {
          "base_uri": "https://localhost:8080/"
        },
        "id": "Axe9SZh7S7hO",
        "outputId": "39e1c0b2-0202-4546-96ea-e7e37fe80efb"
      },
      "execution_count": null,
      "outputs": [
        {
          "output_type": "stream",
          "name": "stdout",
          "text": [
            "https://www.omc-stepperonline.com/nema-8-closed-loop-stepper-motor-0-054-nm-7-65oz-in-encoder-1000ppr-4000cpr-8hs22-0804d-e1000\n",
            "required resolution (minimum tip deviation to robot length): .2%\n",
            "resolution after 8x microstep, gear ratio (minimum tip deviation to robot length): 0.09817477042468105 %\n",
            "required force at rack and pinion: 1.2919592456060283\n",
            "maximum force applicable at rack and pinion: 2.106975477774185\n",
            "actual max acceleration: 3.199703010332838 m/s^2\n",
            "max output torque: 0.0421395095554837\n",
            "required output torque for tube rotation (after SF=5): 0.2721668608554539\n"
          ]
        }
      ]
    },
    {
      "cell_type": "code",
      "source": [
        "motor_speccing(.25, incremental_holding_torque(0.16, microsteps_per_step), .012, .04, \"https://www.omc-stepperonline.com/nema-17-closed-loop-stepper-motor-16ncm-22-7oz-in-with-magnetic-encoder-1000ppr-4000cpr-17hs08-1004-me1k\")"
      ],
      "metadata": {
        "colab": {
          "base_uri": "https://localhost:8080/"
        },
        "id": "Lh3bzCy1U1ZX",
        "outputId": "897da717-4371-4793-8f34-bf275f7e5150"
      },
      "execution_count": null,
      "outputs": [
        {
          "output_type": "stream",
          "name": "stdout",
          "text": [
            "https://www.omc-stepperonline.com/nema-17-closed-loop-stepper-motor-16ncm-22-7oz-in-with-magnetic-encoder-1000ppr-4000cpr-17hs08-1004-me1k\n",
            "required resolution (minimum tip deviation to robot length): .2%\n",
            "resolution after 8x microstep, gear ratio (minimum tip deviation to robot length): 0.11780972450961723 %\n",
            "required force at rack and pinion: 1.7903072456060283\n",
            "maximum force applicable at rack and pinion: 5.202408587096753\n",
            "actual max acceleration: 5.7013262237167925 m/s^2\n",
            "max output torque: 0.10404817174193506\n",
            "required output torque for tube rotation (after SF=5): 0.2721668608554539\n"
          ]
        }
      ]
    },
    {
      "cell_type": "markdown",
      "source": [
        "**This one is small with a high safety factor (~7). We want a high safety factor because our calculations do not take into account resistance due to pre-bent concentric tubes, and we can't waste time with the wrong order:**"
      ],
      "metadata": {
        "id": "cyHk0wP1XRAd"
      }
    },
    {
      "cell_type": "code",
      "source": [
        "motor_speccing(.3, incremental_holding_torque(.45,microsteps_per_step),0.012, 0.04, \"https://www.omc-stepperonline.com/nema-17-closed-loop-stepper-motor-45ncm-64oz-in-with-magnetic-encoder-1000ppr-4000cpr-17hs15-1504-me1k\")"
      ],
      "metadata": {
        "id": "0MWBvZIv_kux",
        "colab": {
          "base_uri": "https://localhost:8080/"
        },
        "outputId": "8fb9f19d-52ec-4c86-b713-44684b854f4f"
      },
      "execution_count": null,
      "outputs": [
        {
          "output_type": "stream",
          "name": "stdout",
          "text": [
            "https://www.omc-stepperonline.com/nema-17-closed-loop-stepper-motor-45ncm-64oz-in-with-magnetic-encoder-1000ppr-4000cpr-17hs15-1504-me1k\n",
            "required resolution (minimum tip deviation to robot length): .2%\n",
            "resolution after 8x microstep, gear ratio (minimum tip deviation to robot length): 0.11780972450961723 %\n",
            "required force at rack and pinion: 1.9865072456060286\n",
            "maximum force applicable at rack and pinion: 14.631774151209619\n",
            "actual max acceleration: 14.451264121070645 m/s^2\n",
            "max output torque: 0.2926354830241924\n",
            "required output torque for tube rotation (after SF=5): 0.2721668608554539\n"
          ]
        }
      ]
    },
    {
      "cell_type": "code",
      "source": [
        "motor_speccing(.3, incremental_holding_torque(.45,microsteps_per_step),0.012, 0.04, \"https://www.omc-stepperonline.com/nema-17-closed-loop-stepper-motor-45ncm-64oz-in-with-magnetic-encoder-1000ppr-4000cpr-17hs15-1504-me1k\", .04501)"
      ],
      "metadata": {
        "colab": {
          "base_uri": "https://localhost:8080/"
        },
        "id": "KOM3QXmrZlBL",
        "outputId": "109eba1a-76de-4be0-dd3b-8d9d23c52118"
      },
      "execution_count": null,
      "outputs": [
        {
          "output_type": "stream",
          "name": "stdout",
          "text": [
            "https://www.omc-stepperonline.com/nema-17-closed-loop-stepper-motor-45ncm-64oz-in-with-magnetic-encoder-1000ppr-4000cpr-17hs15-1504-me1k\n",
            "required resolution (minimum tip deviation to robot length): .2%\n",
            "resolution after 8x microstep, gear ratio (minimum tip deviation to robot length): 0.11780972450961723 %\n",
            "required force at rack and pinion: 1.9865072456060286\n",
            "maximum force applicable at rack and pinion: 13.003131882879021\n",
            "actual max acceleration: 12.842714171135876 m/s^2\n",
            "max output torque: 0.2926354830241924\n",
            "required output torque for tube rotation (after SF=5): 0.2721668608554539\n"
          ]
        }
      ]
    },
    {
      "cell_type": "code",
      "source": [
        "motor_speccing(.5, incremental_holding_torque(.65,8), 0.012, 0.04, \"https://www.omc-stepperonline.com/nema-17-closed-loop-stepper-motor-65ncm-92oz-in-with-magnetic-encoder-1000ppr-4000cpr-17hs24-2104-me1k\")"
      ],
      "metadata": {
        "colab": {
          "base_uri": "https://localhost:8080/"
        },
        "id": "aBfeh4nr-URB",
        "outputId": "c0f6ab82-d84f-41b0-8bd1-304f1f76c09e"
      },
      "execution_count": null,
      "outputs": [
        {
          "output_type": "stream",
          "name": "stdout",
          "text": [
            "https://www.omc-stepperonline.com/nema-17-closed-loop-stepper-motor-65ncm-92oz-in-with-magnetic-encoder-1000ppr-4000cpr-17hs24-2104-me1k\n",
            "required resolution (minimum tip deviation to robot length): .2%\n",
            "resolution after 8x microstep, gear ratio (minimum tip deviation to robot length): 0.11780972450961723 %\n",
            "required force at rack and pinion: 2.7713072456060286\n",
            "maximum force applicable at rack and pinion: 21.134784885080556\n",
            "actual max acceleration: 14.962775423141574 m/s^2\n",
            "max output torque: 0.42269569770161114\n",
            "required output torque for tube rotation (after SF=5): 0.2721668608554539\n"
          ]
        }
      ]
    },
    {
      "cell_type": "markdown",
      "source": [
        "For comparison, here is U of T's specs:"
      ],
      "metadata": {
        "id": "oxx-0itZOlST"
      }
    },
    {
      "cell_type": "code",
      "source": [
        "motor_speccing(.053, .26, 0.01, 0.04, \"https://store.tmotor.com/goods-438-Antigravity+MN4004+KV300+-+2PCSSET.html\", 0.045)"
      ],
      "metadata": {
        "id": "JCVGJegYO7Rq",
        "colab": {
          "base_uri": "https://localhost:8080/"
        },
        "outputId": "52157bef-0b24-4125-934b-59ee4b7026a1"
      },
      "execution_count": null,
      "outputs": [
        {
          "output_type": "stream",
          "name": "stdout",
          "text": [
            "https://store.tmotor.com/goods-438-Antigravity+MN4004+KV300+-+2PCSSET.html\n",
            "required resolution (minimum tip deviation to robot length): .2%\n",
            "resolution after 8x microstep, gear ratio (minimum tip deviation to robot length): 0.09817477042468105 %\n",
            "required force at rack and pinion: 1.0172792456060284\n",
            "maximum force applicable at rack and pinion: 46.22222222222223\n",
            "actual max acceleration: 89.14759678005034 m/s^2\n",
            "max output torque: 1.04\n",
            "required output torque for tube rotation (after SF=5): 0.2721668608554539\n"
          ]
        }
      ]
    }
  ]
}